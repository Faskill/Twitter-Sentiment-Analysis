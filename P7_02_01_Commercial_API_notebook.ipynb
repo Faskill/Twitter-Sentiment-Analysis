{
  "cells": [
    {
      "cell_type": "code",
      "source": [
        "#Importing packages\r\n",
        "import matplotlib.pyplot as plt\r\n",
        "import numpy as np\r\n",
        "import pandas as pd\r\n",
        "import dill"
      ],
      "outputs": [],
      "execution_count": 6,
      "metadata": {
        "gather": {
          "logged": 1666258086397
        }
      }
    },
    {
      "cell_type": "code",
      "source": [
        "with open(\"df.pkl\", \"rb\") as file:\r\n",
        "    df = dill.load(file)\r\n",
        "df.head()"
      ],
      "outputs": [
        {
          "output_type": "execute_result",
          "execution_count": 7,
          "data": {
            "text/plain": "   label                                               text  polarity  \\\n0      0  @switchfoot http://twitpic.com/2y1zl - Awww, t... -0.044875   \n1      0  is upset that he can't update his Facebook by ... -0.206880   \n2      0  @Kenichan I dived many times for the ball. Man...  0.246950   \n3      0    my whole body feels itchy and like its on fire  -0.250000   \n4      0  @nationwideclass no, it's not behaving at all.... -0.123475   \n\n                                          lemma_text  \n0  @switchfoot http://twitpic.com/2y1zl Awww bumm...  \n1  upset update Facebook texte cry result   Schoo...  \n2  @Kenichan dive time ball manage save 50   rest...  \n3                          body feel itchy like fire  \n4                        @nationwideclass behave mad  ",
            "text/html": "<div>\n<style scoped>\n    .dataframe tbody tr th:only-of-type {\n        vertical-align: middle;\n    }\n\n    .dataframe tbody tr th {\n        vertical-align: top;\n    }\n\n    .dataframe thead th {\n        text-align: right;\n    }\n</style>\n<table border=\"1\" class=\"dataframe\">\n  <thead>\n    <tr style=\"text-align: right;\">\n      <th></th>\n      <th>label</th>\n      <th>text</th>\n      <th>polarity</th>\n      <th>lemma_text</th>\n    </tr>\n  </thead>\n  <tbody>\n    <tr>\n      <th>0</th>\n      <td>0</td>\n      <td>@switchfoot http://twitpic.com/2y1zl - Awww, t...</td>\n      <td>-0.044875</td>\n      <td>@switchfoot http://twitpic.com/2y1zl Awww bumm...</td>\n    </tr>\n    <tr>\n      <th>1</th>\n      <td>0</td>\n      <td>is upset that he can't update his Facebook by ...</td>\n      <td>-0.206880</td>\n      <td>upset update Facebook texte cry result   Schoo...</td>\n    </tr>\n    <tr>\n      <th>2</th>\n      <td>0</td>\n      <td>@Kenichan I dived many times for the ball. Man...</td>\n      <td>0.246950</td>\n      <td>@Kenichan dive time ball manage save 50   rest...</td>\n    </tr>\n    <tr>\n      <th>3</th>\n      <td>0</td>\n      <td>my whole body feels itchy and like its on fire</td>\n      <td>-0.250000</td>\n      <td>body feel itchy like fire</td>\n    </tr>\n    <tr>\n      <th>4</th>\n      <td>0</td>\n      <td>@nationwideclass no, it's not behaving at all....</td>\n      <td>-0.123475</td>\n      <td>@nationwideclass behave mad</td>\n    </tr>\n  </tbody>\n</table>\n</div>"
          },
          "metadata": {}
        }
      ],
      "execution_count": 7,
      "metadata": {
        "jupyter": {
          "source_hidden": false,
          "outputs_hidden": false
        },
        "nteract": {
          "transient": {
            "deleting": false
          }
        },
        "gather": {
          "logged": 1666258095425
        }
      }
    },
    {
      "cell_type": "code",
      "source": [
        "from azure.core.credentials import AzureKeyCredential\r\n",
        "from azure.ai.textanalytics import TextAnalyticsClient\r\n",
        "import cred\r\n",
        "\r\n",
        "credential = AzureKeyCredential(cred.cognitive_credential)\r\n",
        "endpoint=cred.cognitive_endpoint\r\n",
        "\r\n",
        "text_analytics_client = TextAnalyticsClient(endpoint, credential)\r\n",
        "\r\n",
        "text_analytics_client"
      ],
      "outputs": [
        {
          "output_type": "execute_result",
          "execution_count": 11,
          "data": {
            "text/plain": "<azure.ai.textanalytics._text_analytics_client.TextAnalyticsClient at 0x7f44c246cd30>"
          },
          "metadata": {}
        }
      ],
      "execution_count": 11,
      "metadata": {
        "jupyter": {
          "source_hidden": false,
          "outputs_hidden": false
        },
        "nteract": {
          "transient": {
            "deleting": false
          }
        },
        "gather": {
          "logged": 1666258443926
        }
      }
    },
    {
      "cell_type": "code",
      "source": [
        "sample_df = df.head(5)\r\n",
        "\r\n",
        "documents = sample_df[\"text\"]\r\n",
        "\r\n",
        "response = text_analytics_client.analyze_sentiment(documents.to_list(), language=\"en\")\r\n",
        "result = [doc for doc in response]\r\n",
        "\r\n",
        "for doc in result:\r\n",
        "    print(f\"Overall sentiment: {doc.sentiment}\")\r\n",
        "    print(\r\n",
        "        f\"Scores: positive={doc.confidence_scores.positive}; \"\r\n",
        "        f\"neutral={doc.confidence_scores.neutral}; \"\r\n",
        "        f\"negative={doc.confidence_scores.negative}\\n\"\r\n",
        "    )"
      ],
      "outputs": [
        {
          "output_type": "stream",
          "name": "stdout",
          "text": "Overall sentiment: negative\nScores: positive=0.0; neutral=0.0; negative=1.0\n\nOverall sentiment: negative\nScores: positive=0.04; neutral=0.18; negative=0.78\n\nOverall sentiment: positive\nScores: positive=0.98; neutral=0.01; negative=0.01\n\nOverall sentiment: neutral\nScores: positive=0.05; neutral=0.6; negative=0.34\n\nOverall sentiment: negative\nScores: positive=0.0; neutral=0.02; negative=0.98\n\n"
        }
      ],
      "execution_count": 15,
      "metadata": {
        "jupyter": {
          "source_hidden": false,
          "outputs_hidden": false
        },
        "nteract": {
          "transient": {
            "deleting": false
          }
        },
        "gather": {
          "logged": 1666258648092
        }
      }
    },
    {
      "cell_type": "code",
      "source": [
        "sample_df.head()"
      ],
      "outputs": [
        {
          "output_type": "execute_result",
          "execution_count": 16,
          "data": {
            "text/plain": "   label                                               text  polarity  \\\n0      0  @switchfoot http://twitpic.com/2y1zl - Awww, t... -0.044875   \n1      0  is upset that he can't update his Facebook by ... -0.206880   \n2      0  @Kenichan I dived many times for the ball. Man...  0.246950   \n3      0    my whole body feels itchy and like its on fire  -0.250000   \n4      0  @nationwideclass no, it's not behaving at all.... -0.123475   \n\n                                          lemma_text  \n0  @switchfoot http://twitpic.com/2y1zl Awww bumm...  \n1  upset update Facebook texte cry result   Schoo...  \n2  @Kenichan dive time ball manage save 50   rest...  \n3                          body feel itchy like fire  \n4                        @nationwideclass behave mad  ",
            "text/html": "<div>\n<style scoped>\n    .dataframe tbody tr th:only-of-type {\n        vertical-align: middle;\n    }\n\n    .dataframe tbody tr th {\n        vertical-align: top;\n    }\n\n    .dataframe thead th {\n        text-align: right;\n    }\n</style>\n<table border=\"1\" class=\"dataframe\">\n  <thead>\n    <tr style=\"text-align: right;\">\n      <th></th>\n      <th>label</th>\n      <th>text</th>\n      <th>polarity</th>\n      <th>lemma_text</th>\n    </tr>\n  </thead>\n  <tbody>\n    <tr>\n      <th>0</th>\n      <td>0</td>\n      <td>@switchfoot http://twitpic.com/2y1zl - Awww, t...</td>\n      <td>-0.044875</td>\n      <td>@switchfoot http://twitpic.com/2y1zl Awww bumm...</td>\n    </tr>\n    <tr>\n      <th>1</th>\n      <td>0</td>\n      <td>is upset that he can't update his Facebook by ...</td>\n      <td>-0.206880</td>\n      <td>upset update Facebook texte cry result   Schoo...</td>\n    </tr>\n    <tr>\n      <th>2</th>\n      <td>0</td>\n      <td>@Kenichan I dived many times for the ball. Man...</td>\n      <td>0.246950</td>\n      <td>@Kenichan dive time ball manage save 50   rest...</td>\n    </tr>\n    <tr>\n      <th>3</th>\n      <td>0</td>\n      <td>my whole body feels itchy and like its on fire</td>\n      <td>-0.250000</td>\n      <td>body feel itchy like fire</td>\n    </tr>\n    <tr>\n      <th>4</th>\n      <td>0</td>\n      <td>@nationwideclass no, it's not behaving at all....</td>\n      <td>-0.123475</td>\n      <td>@nationwideclass behave mad</td>\n    </tr>\n  </tbody>\n</table>\n</div>"
          },
          "metadata": {}
        }
      ],
      "execution_count": 16,
      "metadata": {
        "jupyter": {
          "source_hidden": false,
          "outputs_hidden": false
        },
        "nteract": {
          "transient": {
            "deleting": false
          }
        },
        "gather": {
          "logged": 1666258682510
        }
      }
    },
    {
      "cell_type": "code",
      "source": [
        "label = [1 if doc.confidence_scores.positive > doc.confidence_scores.negative else 0 for doc in result]\r\n",
        "\r\n",
        "label"
      ],
      "outputs": [
        {
          "output_type": "execute_result",
          "execution_count": 18,
          "data": {
            "text/plain": "[0, 0, 1, 0, 0]"
          },
          "metadata": {}
        }
      ],
      "execution_count": 18,
      "metadata": {
        "jupyter": {
          "source_hidden": false,
          "outputs_hidden": false
        },
        "nteract": {
          "transient": {
            "deleting": false
          }
        },
        "gather": {
          "logged": 1666258857805
        }
      }
    },
    {
      "cell_type": "code",
      "source": [
        "sample_df = df.head(500)\r\n",
        "\r\n",
        "results = []\r\n",
        "labels=[]\r\n",
        "\r\n",
        "for i in range(1,51,1):\r\n",
        "    k = 10*(i-1)\r\n",
        "    l = 10*i\r\n",
        "    subset = sample_df[k:l]\r\n",
        "    \r\n",
        "    documents = subset[\"text\"]\r\n",
        "\r\n",
        "    response = text_analytics_client.analyze_sentiment(documents.to_list(), language=\"en\")\r\n",
        "    result = [doc for doc in response]\r\n",
        "\r\n",
        "    results.append(result)\r\n",
        "\r\n",
        "    azure_label = [1 if doc.confidence_scores.positive > doc.confidence_scores.negative else 0 for doc in result]\r\n",
        "\r\n",
        "    labels.append(azure_label)"
      ],
      "outputs": [],
      "execution_count": 23,
      "metadata": {
        "jupyter": {
          "source_hidden": false,
          "outputs_hidden": false
        },
        "nteract": {
          "transient": {
            "deleting": false
          }
        },
        "gather": {
          "logged": 1666259314844
        }
      }
    },
    {
      "cell_type": "code",
      "source": [
        "flat_labels = list(np.concatenate(labels).flat)\r\n",
        "\r\n",
        "sample_df[\"azure_label\"] = flat_labels\r\n",
        "\r\n",
        "sample_df.head()"
      ],
      "outputs": [
        {
          "output_type": "execute_result",
          "execution_count": 38,
          "data": {
            "text/plain": "   label                                               text  polarity  \\\n0      0  @switchfoot http://twitpic.com/2y1zl - Awww, t... -0.044875   \n1      0  is upset that he can't update his Facebook by ... -0.206880   \n2      0  @Kenichan I dived many times for the ball. Man...  0.246950   \n3      0    my whole body feels itchy and like its on fire  -0.250000   \n4      0  @nationwideclass no, it's not behaving at all.... -0.123475   \n\n                                          lemma_text  azure_label  \n0  @switchfoot http://twitpic.com/2y1zl Awww bumm...            0  \n1  upset update Facebook texte cry result   Schoo...            0  \n2  @Kenichan dive time ball manage save 50   rest...            1  \n3                          body feel itchy like fire            0  \n4                        @nationwideclass behave mad            0  ",
            "text/html": "<div>\n<style scoped>\n    .dataframe tbody tr th:only-of-type {\n        vertical-align: middle;\n    }\n\n    .dataframe tbody tr th {\n        vertical-align: top;\n    }\n\n    .dataframe thead th {\n        text-align: right;\n    }\n</style>\n<table border=\"1\" class=\"dataframe\">\n  <thead>\n    <tr style=\"text-align: right;\">\n      <th></th>\n      <th>label</th>\n      <th>text</th>\n      <th>polarity</th>\n      <th>lemma_text</th>\n      <th>azure_label</th>\n    </tr>\n  </thead>\n  <tbody>\n    <tr>\n      <th>0</th>\n      <td>0</td>\n      <td>@switchfoot http://twitpic.com/2y1zl - Awww, t...</td>\n      <td>-0.044875</td>\n      <td>@switchfoot http://twitpic.com/2y1zl Awww bumm...</td>\n      <td>0</td>\n    </tr>\n    <tr>\n      <th>1</th>\n      <td>0</td>\n      <td>is upset that he can't update his Facebook by ...</td>\n      <td>-0.206880</td>\n      <td>upset update Facebook texte cry result   Schoo...</td>\n      <td>0</td>\n    </tr>\n    <tr>\n      <th>2</th>\n      <td>0</td>\n      <td>@Kenichan I dived many times for the ball. Man...</td>\n      <td>0.246950</td>\n      <td>@Kenichan dive time ball manage save 50   rest...</td>\n      <td>1</td>\n    </tr>\n    <tr>\n      <th>3</th>\n      <td>0</td>\n      <td>my whole body feels itchy and like its on fire</td>\n      <td>-0.250000</td>\n      <td>body feel itchy like fire</td>\n      <td>0</td>\n    </tr>\n    <tr>\n      <th>4</th>\n      <td>0</td>\n      <td>@nationwideclass no, it's not behaving at all....</td>\n      <td>-0.123475</td>\n      <td>@nationwideclass behave mad</td>\n      <td>0</td>\n    </tr>\n  </tbody>\n</table>\n</div>"
          },
          "metadata": {}
        }
      ],
      "execution_count": 38,
      "metadata": {
        "jupyter": {
          "source_hidden": false,
          "outputs_hidden": false
        },
        "nteract": {
          "transient": {
            "deleting": false
          }
        },
        "gather": {
          "logged": 1666260093785
        }
      }
    },
    {
      "cell_type": "code",
      "source": [
        "from sklearn.metrics import accuracy_score\r\n",
        "\r\n",
        "accuracy_score(sample_df[\"label\"], sample_df[\"azure_label\"])"
      ],
      "outputs": [
        {
          "output_type": "execute_result",
          "execution_count": 41,
          "data": {
            "text/plain": "0.718"
          },
          "metadata": {}
        }
      ],
      "execution_count": 41,
      "metadata": {
        "jupyter": {
          "source_hidden": false,
          "outputs_hidden": false
        },
        "nteract": {
          "transient": {
            "deleting": false
          }
        },
        "gather": {
          "logged": 1666260226047
        }
      }
    },
    {
      "cell_type": "code",
      "source": [],
      "outputs": [],
      "execution_count": null,
      "metadata": {
        "jupyter": {
          "source_hidden": false,
          "outputs_hidden": false
        },
        "nteract": {
          "transient": {
            "deleting": false
          }
        }
      }
    }
  ],
  "metadata": {
    "kernelspec": {
      "name": "python310-sdkv2",
      "language": "python",
      "display_name": "Python 3.10 - SDK V2"
    },
    "language_info": {
      "name": "python",
      "version": "3.10.4",
      "mimetype": "text/x-python",
      "codemirror_mode": {
        "name": "ipython",
        "version": 3
      },
      "pygments_lexer": "ipython3",
      "nbconvert_exporter": "python",
      "file_extension": ".py"
    },
    "kernel_info": {
      "name": "python310-sdkv2"
    },
    "nteract": {
      "version": "nteract-front-end@1.0.0"
    },
    "microsoft": {
      "host": {
        "AzureML": {
          "notebookHasBeenCompleted": true
        }
      }
    }
  },
  "nbformat": 4,
  "nbformat_minor": 2
}