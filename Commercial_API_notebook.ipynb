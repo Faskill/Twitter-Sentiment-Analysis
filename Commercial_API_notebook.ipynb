{
  "cells": [
    {
      "cell_type": "code",
      "source": [
        "#Importing packages\r\n",
        "import matplotlib.pyplot as plt\r\n",
        "import numpy as np\r\n",
        "import pandas as pd\r\n",
        "import dill"
      ],
      "outputs": [],
      "execution_count": 1,
      "metadata": {
        "gather": {
          "logged": 1666611576602
        }
      }
    },
    {
      "cell_type": "code",
      "source": [
        "#Loading the dataset\r\n",
        "with open(\"df.pkl\", \"rb\") as file:\r\n",
        "    df = dill.load(file)\r\n",
        "df.head()"
      ],
      "outputs": [
        {
          "output_type": "execute_result",
          "execution_count": 2,
          "data": {
            "text/plain": "   label                                               text  polarity  \\\n0      0  @switchfoot http://twitpic.com/2y1zl - Awww, t... -0.044875   \n1      0  is upset that he can't update his Facebook by ... -0.206880   \n2      0  @Kenichan I dived many times for the ball. Man...  0.246950   \n3      0    my whole body feels itchy and like its on fire  -0.250000   \n4      0  @nationwideclass no, it's not behaving at all.... -0.123475   \n\n                                          lemma_text  \n0  @switchfoot http://twitpic.com/2y1zl Awww bumm...  \n1  upset update Facebook texte cry result   Schoo...  \n2  @Kenichan dive time ball manage save 50   rest...  \n3                          body feel itchy like fire  \n4                        @nationwideclass behave mad  ",
            "text/html": "<div>\n<style scoped>\n    .dataframe tbody tr th:only-of-type {\n        vertical-align: middle;\n    }\n\n    .dataframe tbody tr th {\n        vertical-align: top;\n    }\n\n    .dataframe thead th {\n        text-align: right;\n    }\n</style>\n<table border=\"1\" class=\"dataframe\">\n  <thead>\n    <tr style=\"text-align: right;\">\n      <th></th>\n      <th>label</th>\n      <th>text</th>\n      <th>polarity</th>\n      <th>lemma_text</th>\n    </tr>\n  </thead>\n  <tbody>\n    <tr>\n      <th>0</th>\n      <td>0</td>\n      <td>@switchfoot http://twitpic.com/2y1zl - Awww, t...</td>\n      <td>-0.044875</td>\n      <td>@switchfoot http://twitpic.com/2y1zl Awww bumm...</td>\n    </tr>\n    <tr>\n      <th>1</th>\n      <td>0</td>\n      <td>is upset that he can't update his Facebook by ...</td>\n      <td>-0.206880</td>\n      <td>upset update Facebook texte cry result   Schoo...</td>\n    </tr>\n    <tr>\n      <th>2</th>\n      <td>0</td>\n      <td>@Kenichan I dived many times for the ball. Man...</td>\n      <td>0.246950</td>\n      <td>@Kenichan dive time ball manage save 50   rest...</td>\n    </tr>\n    <tr>\n      <th>3</th>\n      <td>0</td>\n      <td>my whole body feels itchy and like its on fire</td>\n      <td>-0.250000</td>\n      <td>body feel itchy like fire</td>\n    </tr>\n    <tr>\n      <th>4</th>\n      <td>0</td>\n      <td>@nationwideclass no, it's not behaving at all....</td>\n      <td>-0.123475</td>\n      <td>@nationwideclass behave mad</td>\n    </tr>\n  </tbody>\n</table>\n</div>"
          },
          "metadata": {}
        }
      ],
      "execution_count": 2,
      "metadata": {
        "jupyter": {
          "source_hidden": false,
          "outputs_hidden": false
        },
        "nteract": {
          "transient": {
            "deleting": false
          }
        },
        "gather": {
          "logged": 1666611591328
        }
      }
    },
    {
      "cell_type": "code",
      "source": [
        "#Importing azure credentials and creating a text analytics client instance\r\n",
        "from azure.core.credentials import AzureKeyCredential\r\n",
        "from azure.ai.textanalytics import TextAnalyticsClient\r\n",
        "import cred\r\n",
        "\r\n",
        "credential = AzureKeyCredential(cred.cognitive_credential)\r\n",
        "endpoint=cred.cognitive_endpoint\r\n",
        "\r\n",
        "text_analytics_client = TextAnalyticsClient(endpoint, credential)\r\n",
        "\r\n",
        "text_analytics_client"
      ],
      "outputs": [
        {
          "output_type": "execute_result",
          "execution_count": 3,
          "data": {
            "text/plain": "<azure.ai.textanalytics._text_analytics_client.TextAnalyticsClient at 0x7f686490e650>"
          },
          "metadata": {}
        }
      ],
      "execution_count": 3,
      "metadata": {
        "jupyter": {
          "source_hidden": false,
          "outputs_hidden": false
        },
        "nteract": {
          "transient": {
            "deleting": false
          }
        },
        "gather": {
          "logged": 1666611605603
        }
      }
    },
    {
      "cell_type": "code",
      "source": [
        "#Calculating the sentiment of a sample of 5 reviews\r\n",
        "sample_df = df.head(5)\r\n",
        "\r\n",
        "documents = sample_df[\"text\"]\r\n",
        "\r\n",
        "response = text_analytics_client.analyze_sentiment(documents.to_list(), language=\"en\")\r\n",
        "result = [doc for doc in response]\r\n",
        "\r\n",
        "for doc in result:\r\n",
        "    print(f\"Overall sentiment: {doc.sentiment}\")\r\n",
        "    print(\r\n",
        "        f\"Scores: positive={doc.confidence_scores.positive}; \"\r\n",
        "        f\"neutral={doc.confidence_scores.neutral}; \"\r\n",
        "        f\"negative={doc.confidence_scores.negative}\\n\"\r\n",
        "    )"
      ],
      "outputs": [
        {
          "output_type": "stream",
          "name": "stdout",
          "text": "Overall sentiment: negative\nScores: positive=0.0; neutral=0.0; negative=1.0\n\nOverall sentiment: negative\nScores: positive=0.04; neutral=0.18; negative=0.78\n\nOverall sentiment: positive\nScores: positive=0.98; neutral=0.01; negative=0.01\n\nOverall sentiment: neutral\nScores: positive=0.05; neutral=0.6; negative=0.34\n\nOverall sentiment: negative\nScores: positive=0.0; neutral=0.02; negative=0.98\n\n"
        }
      ],
      "execution_count": 15,
      "metadata": {
        "jupyter": {
          "source_hidden": false,
          "outputs_hidden": false
        },
        "nteract": {
          "transient": {
            "deleting": false
          }
        },
        "gather": {
          "logged": 1666258648092
        }
      }
    },
    {
      "cell_type": "code",
      "source": [
        "sample_df.head()"
      ],
      "outputs": [
        {
          "output_type": "execute_result",
          "execution_count": 16,
          "data": {
            "text/plain": "   label                                               text  polarity  \\\n0      0  @switchfoot http://twitpic.com/2y1zl - Awww, t... -0.044875   \n1      0  is upset that he can't update his Facebook by ... -0.206880   \n2      0  @Kenichan I dived many times for the ball. Man...  0.246950   \n3      0    my whole body feels itchy and like its on fire  -0.250000   \n4      0  @nationwideclass no, it's not behaving at all.... -0.123475   \n\n                                          lemma_text  \n0  @switchfoot http://twitpic.com/2y1zl Awww bumm...  \n1  upset update Facebook texte cry result   Schoo...  \n2  @Kenichan dive time ball manage save 50   rest...  \n3                          body feel itchy like fire  \n4                        @nationwideclass behave mad  ",
            "text/html": "<div>\n<style scoped>\n    .dataframe tbody tr th:only-of-type {\n        vertical-align: middle;\n    }\n\n    .dataframe tbody tr th {\n        vertical-align: top;\n    }\n\n    .dataframe thead th {\n        text-align: right;\n    }\n</style>\n<table border=\"1\" class=\"dataframe\">\n  <thead>\n    <tr style=\"text-align: right;\">\n      <th></th>\n      <th>label</th>\n      <th>text</th>\n      <th>polarity</th>\n      <th>lemma_text</th>\n    </tr>\n  </thead>\n  <tbody>\n    <tr>\n      <th>0</th>\n      <td>0</td>\n      <td>@switchfoot http://twitpic.com/2y1zl - Awww, t...</td>\n      <td>-0.044875</td>\n      <td>@switchfoot http://twitpic.com/2y1zl Awww bumm...</td>\n    </tr>\n    <tr>\n      <th>1</th>\n      <td>0</td>\n      <td>is upset that he can't update his Facebook by ...</td>\n      <td>-0.206880</td>\n      <td>upset update Facebook texte cry result   Schoo...</td>\n    </tr>\n    <tr>\n      <th>2</th>\n      <td>0</td>\n      <td>@Kenichan I dived many times for the ball. Man...</td>\n      <td>0.246950</td>\n      <td>@Kenichan dive time ball manage save 50   rest...</td>\n    </tr>\n    <tr>\n      <th>3</th>\n      <td>0</td>\n      <td>my whole body feels itchy and like its on fire</td>\n      <td>-0.250000</td>\n      <td>body feel itchy like fire</td>\n    </tr>\n    <tr>\n      <th>4</th>\n      <td>0</td>\n      <td>@nationwideclass no, it's not behaving at all....</td>\n      <td>-0.123475</td>\n      <td>@nationwideclass behave mad</td>\n    </tr>\n  </tbody>\n</table>\n</div>"
          },
          "metadata": {}
        }
      ],
      "execution_count": 16,
      "metadata": {
        "jupyter": {
          "source_hidden": false,
          "outputs_hidden": false
        },
        "nteract": {
          "transient": {
            "deleting": false
          }
        },
        "gather": {
          "logged": 1666258682510
        }
      }
    },
    {
      "cell_type": "code",
      "source": [
        "label = [1 if doc.confidence_scores.positive > doc.confidence_scores.negative else 0 for doc in result]\r\n",
        "\r\n",
        "label"
      ],
      "outputs": [
        {
          "output_type": "execute_result",
          "execution_count": 18,
          "data": {
            "text/plain": "[0, 0, 1, 0, 0]"
          },
          "metadata": {}
        }
      ],
      "execution_count": 18,
      "metadata": {
        "jupyter": {
          "source_hidden": false,
          "outputs_hidden": false
        },
        "nteract": {
          "transient": {
            "deleting": false
          }
        },
        "gather": {
          "logged": 1666258857805
        }
      }
    },
    {
      "cell_type": "code",
      "source": [
        "#Splitting our dataset and keeping only 500 rows in the test set\r\n",
        "from sklearn.model_selection import train_test_split\r\n",
        "X = df[\"text\"]\r\n",
        "y = df[\"label\"]\r\n",
        "\r\n",
        "X_train, X_test, y_train, y_test = train_test_split(X, y , stratify = y, shuffle=True, test_size = 500)\r\n",
        "\r\n",
        "sample_df = pd.DataFrame({'label': y_test, 'text': X_test})\r\n",
        "\r\n",
        "sample_df"
      ],
      "outputs": [
        {
          "output_type": "execute_result",
          "execution_count": 14,
          "data": {
            "text/plain": "         label                                               text\n1549331      1  @zaftigvegan I never picked one up and I am Te...\n1100380      1  @AstridNicole You know someone on Twitter can ...\n654250       0  @Slic_Vic up under the dryer the second time a...\n1411213      1    I'm still tired. I think i might go take a nap \n105027       0  I think I have ran outta music to play lmao  ....\n...        ...                                                ...\n731181       0  @Hadassah_Levy  Wish I could have been your he...\n1214486      1                              HAPPY CHILDREN'S DAY \n88650        0       Sad to be stuck in work on such a nice day! \n1195649      1  Excited to see the New Moon trailer!!  I love ...\n1167386      1  @an0m0ly yes! When do you get here with the fo...\n\n[500 rows x 2 columns]",
            "text/html": "<div>\n<style scoped>\n    .dataframe tbody tr th:only-of-type {\n        vertical-align: middle;\n    }\n\n    .dataframe tbody tr th {\n        vertical-align: top;\n    }\n\n    .dataframe thead th {\n        text-align: right;\n    }\n</style>\n<table border=\"1\" class=\"dataframe\">\n  <thead>\n    <tr style=\"text-align: right;\">\n      <th></th>\n      <th>label</th>\n      <th>text</th>\n    </tr>\n  </thead>\n  <tbody>\n    <tr>\n      <th>1549331</th>\n      <td>1</td>\n      <td>@zaftigvegan I never picked one up and I am Te...</td>\n    </tr>\n    <tr>\n      <th>1100380</th>\n      <td>1</td>\n      <td>@AstridNicole You know someone on Twitter can ...</td>\n    </tr>\n    <tr>\n      <th>654250</th>\n      <td>0</td>\n      <td>@Slic_Vic up under the dryer the second time a...</td>\n    </tr>\n    <tr>\n      <th>1411213</th>\n      <td>1</td>\n      <td>I'm still tired. I think i might go take a nap</td>\n    </tr>\n    <tr>\n      <th>105027</th>\n      <td>0</td>\n      <td>I think I have ran outta music to play lmao  ....</td>\n    </tr>\n    <tr>\n      <th>...</th>\n      <td>...</td>\n      <td>...</td>\n    </tr>\n    <tr>\n      <th>731181</th>\n      <td>0</td>\n      <td>@Hadassah_Levy  Wish I could have been your he...</td>\n    </tr>\n    <tr>\n      <th>1214486</th>\n      <td>1</td>\n      <td>HAPPY CHILDREN'S DAY</td>\n    </tr>\n    <tr>\n      <th>88650</th>\n      <td>0</td>\n      <td>Sad to be stuck in work on such a nice day!</td>\n    </tr>\n    <tr>\n      <th>1195649</th>\n      <td>1</td>\n      <td>Excited to see the New Moon trailer!!  I love ...</td>\n    </tr>\n    <tr>\n      <th>1167386</th>\n      <td>1</td>\n      <td>@an0m0ly yes! When do you get here with the fo...</td>\n    </tr>\n  </tbody>\n</table>\n<p>500 rows × 2 columns</p>\n</div>"
          },
          "metadata": {}
        }
      ],
      "execution_count": 14,
      "metadata": {
        "jupyter": {
          "source_hidden": false,
          "outputs_hidden": false
        },
        "nteract": {
          "transient": {
            "deleting": false
          }
        },
        "gather": {
          "logged": 1666612222031
        }
      }
    },
    {
      "cell_type": "code",
      "source": [
        "#Calculating our labels for the first 500 rows of our dataset\r\n",
        "results = []\r\n",
        "labels=[]\r\n",
        "\r\n",
        "for i in range(1,51,1):\r\n",
        "    k = 10*(i-1)\r\n",
        "    l = 10*i\r\n",
        "    subset = sample_df[k:l]\r\n",
        "    \r\n",
        "    documents = subset[\"text\"]\r\n",
        "\r\n",
        "    response = text_analytics_client.analyze_sentiment(documents.to_list(), language=\"en\")\r\n",
        "    result = [doc for doc in response]\r\n",
        "\r\n",
        "    results.append(result)\r\n",
        "\r\n",
        "    azure_label = [1 if doc.confidence_scores.positive > doc.confidence_scores.negative else 0 for doc in result]\r\n",
        "\r\n",
        "    labels.append(azure_label)"
      ],
      "outputs": [],
      "execution_count": 15,
      "metadata": {
        "jupyter": {
          "source_hidden": false,
          "outputs_hidden": false
        },
        "nteract": {
          "transient": {
            "deleting": false
          }
        },
        "gather": {
          "logged": 1666612261585
        }
      }
    },
    {
      "cell_type": "code",
      "source": [
        "flat_labels = list(np.concatenate(labels).flat)\r\n",
        "\r\n",
        "sample_df[\"azure_label\"] = flat_labels\r\n",
        "\r\n",
        "sample_df.head()"
      ],
      "outputs": [
        {
          "output_type": "execute_result",
          "execution_count": 16,
          "data": {
            "text/plain": "         label                                               text  azure_label\n1549331      1  @zaftigvegan I never picked one up and I am Te...            1\n1100380      1  @AstridNicole You know someone on Twitter can ...            1\n654250       0  @Slic_Vic up under the dryer the second time a...            0\n1411213      1    I'm still tired. I think i might go take a nap             0\n105027       0  I think I have ran outta music to play lmao  ....            1",
            "text/html": "<div>\n<style scoped>\n    .dataframe tbody tr th:only-of-type {\n        vertical-align: middle;\n    }\n\n    .dataframe tbody tr th {\n        vertical-align: top;\n    }\n\n    .dataframe thead th {\n        text-align: right;\n    }\n</style>\n<table border=\"1\" class=\"dataframe\">\n  <thead>\n    <tr style=\"text-align: right;\">\n      <th></th>\n      <th>label</th>\n      <th>text</th>\n      <th>azure_label</th>\n    </tr>\n  </thead>\n  <tbody>\n    <tr>\n      <th>1549331</th>\n      <td>1</td>\n      <td>@zaftigvegan I never picked one up and I am Te...</td>\n      <td>1</td>\n    </tr>\n    <tr>\n      <th>1100380</th>\n      <td>1</td>\n      <td>@AstridNicole You know someone on Twitter can ...</td>\n      <td>1</td>\n    </tr>\n    <tr>\n      <th>654250</th>\n      <td>0</td>\n      <td>@Slic_Vic up under the dryer the second time a...</td>\n      <td>0</td>\n    </tr>\n    <tr>\n      <th>1411213</th>\n      <td>1</td>\n      <td>I'm still tired. I think i might go take a nap</td>\n      <td>0</td>\n    </tr>\n    <tr>\n      <th>105027</th>\n      <td>0</td>\n      <td>I think I have ran outta music to play lmao  ....</td>\n      <td>1</td>\n    </tr>\n  </tbody>\n</table>\n</div>"
          },
          "metadata": {}
        }
      ],
      "execution_count": 16,
      "metadata": {
        "jupyter": {
          "source_hidden": false,
          "outputs_hidden": false
        },
        "nteract": {
          "transient": {
            "deleting": false
          }
        },
        "gather": {
          "logged": 1666612265441
        }
      }
    },
    {
      "cell_type": "code",
      "source": [
        "from sklearn.metrics import accuracy_score, precision_score, recall_score, roc_auc_score, f1_score\r\n",
        "\r\n",
        "accuracy = accuracy_score(sample_df[\"label\"], sample_df[\"azure_label\"])\r\n",
        "roc = roc_auc_score(sample_df[\"label\"], sample_df[\"azure_label\"])\r\n",
        "f1 = f1_score(sample_df[\"label\"], sample_df[\"azure_label\"])\r\n",
        "precision = precision_score(sample_df[\"label\"], sample_df[\"azure_label\"])\r\n",
        "recall = accuracy_score(sample_df[\"label\"], sample_df[\"azure_label\"])\r\n",
        "\r\n",
        "print(\"Accuracy : \", accuracy)\r\n",
        "print(\"ROC AUC SCORE : \", roc)\r\n",
        "print(\"F1 Score : \", f1)\r\n",
        "print(\"Precision : \", precision)\r\n",
        "print(\"Recall : \", recall)"
      ],
      "outputs": [
        {
          "output_type": "stream",
          "name": "stdout",
          "text": "Accuracy :  0.758\nROC AUC SCORE :  0.7579999999999999\nF1 Score :  0.7771639042357273\nPrecision :  0.7201365187713311\nRecall :  0.758\n"
        }
      ],
      "execution_count": 17,
      "metadata": {
        "jupyter": {
          "source_hidden": false,
          "outputs_hidden": false
        },
        "nteract": {
          "transient": {
            "deleting": false
          }
        },
        "gather": {
          "logged": 1666612275768
        }
      }
    },
    {
      "cell_type": "markdown",
      "source": [
        "We have reached a **good accuracy at 0.76** with this API, although it does not surpass our BERT models."
      ],
      "metadata": {
        "nteract": {
          "transient": {
            "deleting": false
          }
        }
      }
    },
    {
      "cell_type": "code",
      "source": [],
      "outputs": [],
      "execution_count": null,
      "metadata": {
        "jupyter": {
          "source_hidden": false,
          "outputs_hidden": false
        },
        "nteract": {
          "transient": {
            "deleting": false
          }
        }
      }
    }
  ],
  "metadata": {
    "kernelspec": {
      "name": "python310-sdkv2",
      "language": "python",
      "display_name": "Python 3.10 - SDK V2"
    },
    "language_info": {
      "name": "python",
      "version": "3.10.4",
      "mimetype": "text/x-python",
      "codemirror_mode": {
        "name": "ipython",
        "version": 3
      },
      "pygments_lexer": "ipython3",
      "nbconvert_exporter": "python",
      "file_extension": ".py"
    },
    "kernel_info": {
      "name": "python310-sdkv2"
    },
    "nteract": {
      "version": "nteract-front-end@1.0.0"
    },
    "microsoft": {
      "host": {
        "AzureML": {
          "notebookHasBeenCompleted": true
        }
      }
    }
  },
  "nbformat": 4,
  "nbformat_minor": 2
}